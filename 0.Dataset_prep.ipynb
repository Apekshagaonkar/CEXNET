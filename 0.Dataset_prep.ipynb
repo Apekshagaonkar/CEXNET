{
  "nbformat": 4,
  "nbformat_minor": 0,
  "metadata": {
    "colab": {
      "name": "0.Dataset_prep.ipynb",
      "provenance": [],
      "collapsed_sections": [],
      "include_colab_link": true
    },
    "kernelspec": {
      "name": "python3",
      "display_name": "Python 3"
    },
    "accelerator": "GPU"
  },
  "cells": [
    {
      "cell_type": "markdown",
      "metadata": {
        "id": "view-in-github",
        "colab_type": "text"
      },
      "source": [
        "<a href=\"https://colab.research.google.com/github/Apekshagaonkar/dl_covid/blob/main/0.Dataset_prep.ipynb\" target=\"_parent\"><img src=\"https://colab.research.google.com/assets/colab-badge.svg\" alt=\"Open In Colab\"/></a>"
      ]
    },
    {
      "cell_type": "code",
      "metadata": {
        "id": "aHARhRuEas8s",
        "outputId": "06ddf41c-35f9-42ae-dad3-46ccaa340047",
        "colab": {
          "base_uri": "https://localhost:8080/"
        }
      },
      "source": [
        "from google.colab import drive\n",
        "drive.mount(\"/content/drive\",force_remount=True)"
      ],
      "execution_count": 2,
      "outputs": [
        {
          "output_type": "stream",
          "text": [
            "Mounted at /content/drive\n"
          ],
          "name": "stdout"
        }
      ]
    },
    {
      "cell_type": "code",
      "metadata": {
        "id": "UXQPrObgbFsK",
        "outputId": "fef058e9-cf36-40c8-8945-c490fb3b9311",
        "colab": {
          "base_uri": "https://localhost:8080/"
        }
      },
      "source": [
        "%cd \"/content/drive/My Drive/Covid19AI\""
      ],
      "execution_count": 3,
      "outputs": [
        {
          "output_type": "stream",
          "text": [
            "/content/drive/My Drive/Covid19AI\n"
          ],
          "name": "stdout"
        }
      ]
    },
    {
      "cell_type": "code",
      "metadata": {
        "id": "b6wWNL7cgGXq"
      },
      "source": [
        "!cp \"/content/drive/My Drive/Covid19AI/Jupyter_notebooks/BEASF.py\" ."
      ],
      "execution_count": 4,
      "outputs": []
    },
    {
      "cell_type": "code",
      "metadata": {
        "id": "hC7bG9cFgzuF"
      },
      "source": [
        "!cp \"/content/drive/My Drive/Covid19AI/Jupyter_notebooks/visualization_tools.py\" ."
      ],
      "execution_count": 5,
      "outputs": []
    },
    {
      "cell_type": "code",
      "metadata": {
        "id": "ugbkn_1Lg-WF",
        "outputId": "5baa98ef-ecbf-42e1-9005-2e0f7fbcfbce",
        "colab": {
          "base_uri": "https://localhost:8080/"
        }
      },
      "source": [
        "!pip3 install lime"
      ],
      "execution_count": 6,
      "outputs": [
        {
          "output_type": "stream",
          "text": [
            "Collecting lime\n",
            "\u001b[?25l  Downloading https://files.pythonhosted.org/packages/f5/86/91a13127d83d793ecb50eb75e716f76e6eda809b6803c5a4ff462339789e/lime-0.2.0.1.tar.gz (275kB)\n",
            "\r\u001b[K     |█▏                              | 10kB 7.2MB/s eta 0:00:01\r\u001b[K     |██▍                             | 20kB 9.1MB/s eta 0:00:01\r\u001b[K     |███▋                            | 30kB 7.8MB/s eta 0:00:01\r\u001b[K     |████▊                           | 40kB 4.6MB/s eta 0:00:01\r\u001b[K     |██████                          | 51kB 5.5MB/s eta 0:00:01\r\u001b[K     |███████▏                        | 61kB 6.4MB/s eta 0:00:01\r\u001b[K     |████████▎                       | 71kB 7.1MB/s eta 0:00:01\r\u001b[K     |█████████▌                      | 81kB 7.2MB/s eta 0:00:01\r\u001b[K     |██████████▊                     | 92kB 7.5MB/s eta 0:00:01\r\u001b[K     |███████████▉                    | 102kB 7.8MB/s eta 0:00:01\r\u001b[K     |█████████████                   | 112kB 7.8MB/s eta 0:00:01\r\u001b[K     |██████████████▎                 | 122kB 7.8MB/s eta 0:00:01\r\u001b[K     |███████████████▌                | 133kB 7.8MB/s eta 0:00:01\r\u001b[K     |████████████████▋               | 143kB 7.8MB/s eta 0:00:01\r\u001b[K     |█████████████████▉              | 153kB 7.8MB/s eta 0:00:01\r\u001b[K     |███████████████████             | 163kB 7.8MB/s eta 0:00:01\r\u001b[K     |████████████████████▏           | 174kB 7.8MB/s eta 0:00:01\r\u001b[K     |█████████████████████▍          | 184kB 7.8MB/s eta 0:00:01\r\u001b[K     |██████████████████████▋         | 194kB 7.8MB/s eta 0:00:01\r\u001b[K     |███████████████████████▊        | 204kB 7.8MB/s eta 0:00:01\r\u001b[K     |█████████████████████████       | 215kB 7.8MB/s eta 0:00:01\r\u001b[K     |██████████████████████████▏     | 225kB 7.8MB/s eta 0:00:01\r\u001b[K     |███████████████████████████▍    | 235kB 7.8MB/s eta 0:00:01\r\u001b[K     |████████████████████████████▌   | 245kB 7.8MB/s eta 0:00:01\r\u001b[K     |█████████████████████████████▊  | 256kB 7.8MB/s eta 0:00:01\r\u001b[K     |███████████████████████████████ | 266kB 7.8MB/s eta 0:00:01\r\u001b[K     |████████████████████████████████| 276kB 7.8MB/s \n",
            "\u001b[?25hRequirement already satisfied: matplotlib in /usr/local/lib/python3.6/dist-packages (from lime) (3.2.2)\n",
            "Requirement already satisfied: numpy in /usr/local/lib/python3.6/dist-packages (from lime) (1.18.5)\n",
            "Requirement already satisfied: scipy in /usr/local/lib/python3.6/dist-packages (from lime) (1.4.1)\n",
            "Requirement already satisfied: tqdm in /usr/local/lib/python3.6/dist-packages (from lime) (4.41.1)\n",
            "Requirement already satisfied: scikit-learn>=0.18 in /usr/local/lib/python3.6/dist-packages (from lime) (0.22.2.post1)\n",
            "Requirement already satisfied: scikit-image>=0.12 in /usr/local/lib/python3.6/dist-packages (from lime) (0.16.2)\n",
            "Requirement already satisfied: python-dateutil>=2.1 in /usr/local/lib/python3.6/dist-packages (from matplotlib->lime) (2.8.1)\n",
            "Requirement already satisfied: kiwisolver>=1.0.1 in /usr/local/lib/python3.6/dist-packages (from matplotlib->lime) (1.3.1)\n",
            "Requirement already satisfied: cycler>=0.10 in /usr/local/lib/python3.6/dist-packages (from matplotlib->lime) (0.10.0)\n",
            "Requirement already satisfied: pyparsing!=2.0.4,!=2.1.2,!=2.1.6,>=2.0.1 in /usr/local/lib/python3.6/dist-packages (from matplotlib->lime) (2.4.7)\n",
            "Requirement already satisfied: joblib>=0.11 in /usr/local/lib/python3.6/dist-packages (from scikit-learn>=0.18->lime) (0.17.0)\n",
            "Requirement already satisfied: PyWavelets>=0.4.0 in /usr/local/lib/python3.6/dist-packages (from scikit-image>=0.12->lime) (1.1.1)\n",
            "Requirement already satisfied: imageio>=2.3.0 in /usr/local/lib/python3.6/dist-packages (from scikit-image>=0.12->lime) (2.4.1)\n",
            "Requirement already satisfied: pillow>=4.3.0 in /usr/local/lib/python3.6/dist-packages (from scikit-image>=0.12->lime) (7.0.0)\n",
            "Requirement already satisfied: networkx>=2.0 in /usr/local/lib/python3.6/dist-packages (from scikit-image>=0.12->lime) (2.5)\n",
            "Requirement already satisfied: six>=1.5 in /usr/local/lib/python3.6/dist-packages (from python-dateutil>=2.1->matplotlib->lime) (1.15.0)\n",
            "Requirement already satisfied: decorator>=4.3.0 in /usr/local/lib/python3.6/dist-packages (from networkx>=2.0->scikit-image>=0.12->lime) (4.4.2)\n",
            "Building wheels for collected packages: lime\n",
            "  Building wheel for lime (setup.py) ... \u001b[?25l\u001b[?25hdone\n",
            "  Created wheel for lime: filename=lime-0.2.0.1-cp36-none-any.whl size=283845 sha256=fe711635f12c204e7b0d25bf31dba777cc2262f2cf02b818c19504cf52909ef7\n",
            "  Stored in directory: /root/.cache/pip/wheels/4c/4f/a5/0bc765457bd41378bf3ce8d17d7495369d6e7ca3b712c60c89\n",
            "Successfully built lime\n",
            "Installing collected packages: lime\n",
            "Successfully installed lime-0.2.0.1\n"
          ],
          "name": "stdout"
        }
      ]
    },
    {
      "cell_type": "code",
      "metadata": {
        "id": "Rhcpt823bKu7"
      },
      "source": [
        "import glob, numpy as np, cv2, matplotlib.pyplot as plt, copy, tensorflow as tf\n",
        "from tensorflow.keras.preprocessing.image import load_img, img_to_array, ImageDataGenerator\n",
        "from tensorflow.keras import Model, callbacks as cb, optimizers\n",
        "from tensorflow.keras.models import load_model, model_from_json\n",
        "from tensorflow.keras.layers import Dense, Dropout, Lambda, Input, Conv2D, Conv2DTranspose, concatenate, MaxPooling2D\n",
        "from tensorflow.keras import Model\n",
        "\n",
        "from sklearn.model_selection import train_test_split\n",
        "from sklearn.metrics import confusion_matrix\n",
        "from sklearn.utils import class_weight\n",
        "from sklearn.preprocessing import OneHotEncoder\n",
        "from sklearn.compose import ColumnTransformer\n",
        "\n",
        "from skimage.filters import rank\n",
        "from skimage.morphology import disk\n",
        "\n",
        "from BEASF import BEASF\n",
        "from visualization_tools import GradCAM"
      ],
      "execution_count": 7,
      "outputs": []
    },
    {
      "cell_type": "markdown",
      "metadata": {
        "id": "0afKCmeyZrvi"
      },
      "source": [
        "# read Data and convert to npy"
      ]
    },
    {
      "cell_type": "code",
      "metadata": {
        "id": "-2zH9UbQbWtu"
      },
      "source": [
        "def get_images(img_path): # FUNCTION FOR 1 FOLDER WITH ALL IMAGES MIXED WITH RESPECTIVE LABEL NAME\n",
        "  normal_images = list()\n",
        "  cap_images = list()\n",
        "  covid_images = list()\n",
        "  for img_name in glob.glob(pathname=img_path + '/*'):\n",
        "    img = load_img(path=img_name, color_mode='grayscale')\n",
        "    img = img_to_array(img=img, data_format='channels_last')\n",
        "    if 'COVID' in img_name:\n",
        "      covid_images.append(img)\n",
        "    elif 'pneumonia' in img_name:\n",
        "      cap_images.append(img)\n",
        "    elif 'normal' in img_name:\n",
        "      normal_images.append(img)\n",
        "  normal_images = np.array(normal_images)\n",
        "  cap_images = np.array(normal_images)\n",
        "  covid_images = np.array(normal_images)\n",
        "\n",
        "  normal_labels = [0 for _ in range(len(normal_images))]\n",
        "  cap_labels = [1 for _ in range(len(cap_images))]\n",
        "  covid_labels = [2 for _ in range(len(covid_images))]\n",
        "\n",
        "  X = np.concatenate((covid_images, cap_images, normal_images))\n",
        "  y = np.array(covid_labels + cap_labels + normal_labels)\n",
        "  return X,y\n",
        "\n",
        "def get_images(img_path): # FUNCTION FOR 1 FOLDER WITH FOLDERS WITH LABEL NAME AND RESPECTIVE IMAGES\n",
        "  normal_images = list()\n",
        "  cap_images = list()\n",
        "  covid_images = list()\n",
        "  print(glob.glob(pathname=img_path + '/*'))\n",
        "  for folder_name in glob.glob(pathname=img_path + '/*'):\n",
        "    print(folder_name)\n",
        "    img_path =folder_name\n",
        "    if 'covid' in folder_name:\n",
        "      for img_name in glob.glob(pathname=img_path + '/*'):\n",
        "        img = load_img(path=img_name, color_mode='grayscale')\n",
        "        img = img_to_array(img=img, data_format='channels_last')\n",
        "        covid_images.append(img)\n",
        "    elif 'PNEUMONIA' in folder_name:\n",
        "       for img_name in glob.glob(pathname=img_path + '/*'):\n",
        "        img = load_img(path=img_name, color_mode='grayscale')\n",
        "        img = img_to_array(img=img, data_format='channels_last')\n",
        "        cap_images.append(img)\n",
        "    elif 'NORMAL' in folder_name:\n",
        "       for img_name in glob.glob(pathname=img_path + '/*'):\n",
        "        img = load_img(path=img_name, color_mode='grayscale')\n",
        "        img = img_to_array(img=img, data_format='channels_last')\n",
        "        normal_images.append(img)\n",
        "  normal_images = np.array(normal_images)\n",
        "  cap_images = np.array(normal_images)\n",
        "  covid_images = np.array(normal_images)\n",
        "\n",
        "  normal_labels = [0 for _ in range(len(normal_images))]\n",
        "  cap_labels = [1 for _ in range(len(cap_images))]\n",
        "  covid_labels = [2 for _ in range(len(covid_images))]\n",
        "\n",
        "  X = np.concatenate((covid_images, cap_images, normal_images))\n",
        "  y = np.array(covid_labels + cap_labels + normal_labels)\n",
        "  return X,y\n"
      ],
      "execution_count": 8,
      "outputs": []
    },
    {
      "cell_type": "code",
      "metadata": {
        "id": "pe8tDmGJeXqz"
      },
      "source": [
        "def resize_images_of(X):\n",
        "    X = np.array([cv2.resize(image, dsize=(320, 320), interpolation=cv2.INTER_CUBIC) for image in X])\n",
        "    X = np.array([np.expand_dims(a=image, axis=-1) for image in X])\n",
        "    X = X.astype(dtype=np.uint8)\n",
        "    return X\n",
        "\n",
        "\n",
        "def show_random_image_from(X):\n",
        "    rnd_idx = np.random.choice(a=len(X), size=None)\n",
        "    plt.imshow(X=X[rnd_idx].squeeze(), cmap='gray')\n",
        "    plt.axis('off')\n",
        "    plt.title(label='a random image from the dataset')\n",
        "    plt.show()\n",
        "\n",
        "\n",
        "def save_dataset(data, labels):\n",
        "    print('number of total dataset images:', len(data))\n",
        "    print('number of total dataset labels:', len(labels))\n",
        "    print('dataset shape:', data.shape)\n",
        "    print(\"export images as npy file? (y/n) : default = n need to remove commented code if needed to export\")\n",
        "    \"\"\"if input() == 'y':\n",
        "        np.save('./covid_cxr_dataset/cxr_samples.npy', arr=data)\n",
        "        np.save('./covid_cxr_dataset/cxr_labels.npy', arr=labels)\n",
        "    else:\n",
        "        print('dataset exportation aborted.')\"\"\"\n",
        "    print('saved as ./covid_cxr_dataset/cxr_samples.npy')\n",
        "    print('saved as ./covid_cxr_dataset/cxr_labels.npy')"
      ],
      "execution_count": 9,
      "outputs": []
    },
    {
      "cell_type": "code",
      "metadata": {
        "id": "npXXkAMUlK7n",
        "outputId": "fe9c9d53-f63c-44dc-943d-1a28b50d9fe0",
        "colab": {
          "base_uri": "https://localhost:8080/"
        }
      },
      "source": [
        "!ls"
      ],
      "execution_count": 10,
      "outputs": [
        {
          "output_type": "stream",
          "text": [
            " 0.Dataset_prep.ipynb\t      Model_flow.ipynb\n",
            " 1.Image_segmentation.ipynb   Pretrained_Model\n",
            " 2.Training_model.ipynb      'Projects progress.gdoc'\n",
            " Additional\t\t      __pycache__\n",
            " BEASF.py\t\t      tmp.h5\n",
            " covid_cxr_dataset\t     'v1.0_eps=099_valAcc=0.9672.hdf5'\n",
            " Documents\t\t      visualization_tools.py\n",
            " Jupyter_notebooks\n"
          ],
          "name": "stdout"
        }
      ]
    },
    {
      "cell_type": "code",
      "metadata": {
        "id": "V3XgY4WOhPTG"
      },
      "source": [
        "data_path = '/content/drive/My Drive/Covid19AI/covid_cxr_dataset/Training_data'\n",
        "\n",
        "#X,y = get_images(img_path=data_path)\n"
      ],
      "execution_count": 11,
      "outputs": []
    },
    {
      "cell_type": "code",
      "metadata": {
        "id": "2CKGof2Uvtmg"
      },
      "source": [
        "p2c = '/content/drive/My Drive/Covid19AI/covid_cxr_dataset/Training_data/covid19'\n",
        "p2p = '/content/drive/My Drive/Covid19AI/covid_cxr_dataset/Training_data/PNEUMONIA'\n",
        "p2n = '/content/drive/My Drive/Covid19AI/covid_cxr_dataset/Training_data/NORMAL'\n",
        "normal_images = list()\n",
        "cap_images = list()\n",
        "covid_images = list()"
      ],
      "execution_count": 12,
      "outputs": []
    },
    {
      "cell_type": "code",
      "metadata": {
        "id": "2jP73dcrwK5l"
      },
      "source": [
        "for img_name in glob.glob(pathname=p2c + '/*'):\n",
        "        img = load_img(path=img_name, color_mode='grayscale')\n",
        "        img = img_to_array(img=img, data_format='channels_last')\n",
        "        covid_images.append(img)"
      ],
      "execution_count": null,
      "outputs": []
    },
    {
      "cell_type": "code",
      "metadata": {
        "id": "XPf4Pcg-wPsC"
      },
      "source": [
        "for img_name in glob.glob(pathname=p2p + '/*'):\n",
        "        img = load_img(path=img_name, color_mode='grayscale')\n",
        "        img = img_to_array(img=img, data_format='channels_last')\n",
        "        cap_images.append(img)"
      ],
      "execution_count": null,
      "outputs": []
    },
    {
      "cell_type": "code",
      "metadata": {
        "id": "rebiiZ96wkLh"
      },
      "source": [
        "#normal_images = np.array(normal_images)\n",
        "cap_images = np.array(normal_images)\n",
        "covid_images = np.array(normal_images)\n",
        "\n",
        "normal_labels = [0 for _ in range(len(normal_images))]\n",
        "cap_labels = [1 for _ in range(len(cap_images))]\n",
        "covid_labels = [2 for _ in range(len(covid_images))]\n",
        "\n",
        "X = np.concatenate((covid_images, cap_images, normal_images))\n",
        "y = np.array(covid_labels + cap_labels + normal_labels)\n",
        "\n",
        "print(y)"
      ],
      "execution_count": null,
      "outputs": []
    },
    {
      "cell_type": "code",
      "metadata": {
        "id": "lJBstj2wxH_m"
      },
      "source": [
        "np.save('./covid_cxr_dataset/train_cxr_samples.npy', arr=X)\n",
        "np.save('./covid_cxr_dataset/train_cxr_labels.npy', arr=y)"
      ],
      "execution_count": null,
      "outputs": []
    },
    {
      "cell_type": "code",
      "metadata": {
        "id": "Ibssl6C6tCaP"
      },
      "source": [
        "X = resize_images_of(X=X)\n",
        "show_random_image_from(X=X)\n",
        "save_dataset(data=X, labels=y)"
      ],
      "execution_count": null,
      "outputs": []
    },
    {
      "cell_type": "markdown",
      "metadata": {
        "id": "Qhgsry8IpCan"
      },
      "source": [
        "# Verifying the dataset preperation"
      ]
    },
    {
      "cell_type": "code",
      "metadata": {
        "id": "jbENt9hwi5GO"
      },
      "source": [
        "X = np.load(file='/content/drive/My Drive/Covid19AI/covid_cxr_dataset/cxr_samples.npy')\n",
        "y = np.load(file='/content/drive/My Drive/Covid19AI/covid_cxr_dataset/cxr_labels.npy')\n",
        "\n",
        "print('number of total dataset images:', len(X))\n",
        "print('number of total dataset labels:', len(y))\n",
        "print('dataset shape:', X.shape)\n",
        "\n",
        "rnd_idx = np.random.choice(a=len(X), size=None)\n",
        "plt.imshow(X=X[rnd_idx].squeeze(), cmap='gray')\n",
        "plt.axis('off')\n",
        "plt.title(label='a random image from the dataset')\n",
        "plt.show()"
      ],
      "execution_count": null,
      "outputs": []
    },
    {
      "cell_type": "code",
      "metadata": {
        "id": "_1dyqSmdpRlO"
      },
      "source": [
        "print(y)"
      ],
      "execution_count": null,
      "outputs": []
    },
    {
      "cell_type": "code",
      "metadata": {
        "id": "9Fv1jS6_pSsb"
      },
      "source": [
        ""
      ],
      "execution_count": null,
      "outputs": []
    }
  ]
}