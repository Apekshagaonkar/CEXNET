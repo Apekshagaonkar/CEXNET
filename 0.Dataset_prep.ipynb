{
  "nbformat": 4,
  "nbformat_minor": 0,
  "metadata": {
    "colab": {
      "name": "0.Dataset_prep.ipynb",
      "provenance": [],
      "collapsed_sections": [],
      "include_colab_link": true
    },
    "kernelspec": {
      "name": "python3",
      "display_name": "Python 3"
    },
    "accelerator": "GPU"
  },
  "cells": [
    {
      "cell_type": "markdown",
      "metadata": {
        "id": "view-in-github",
        "colab_type": "text"
      },
      "source": [
        "<a href=\"https://colab.research.google.com/github/Apekshagaonkar/dl_covid/blob/main/0.Dataset_prep.ipynb\" target=\"_parent\"><img src=\"https://colab.research.google.com/assets/colab-badge.svg\" alt=\"Open In Colab\"/></a>"
      ]
    },
    {
      "cell_type": "code",
      "metadata": {
        "id": "aHARhRuEas8s",
        "colab": {
          "base_uri": "https://localhost:8080/"
        },
        "outputId": "28fd8947-e671-4573-b4c2-d2dd782a025c"
      },
      "source": [
        "from google.colab import drive\n",
        "drive.mount(\"/content/drive\",force_remount=True)"
      ],
      "execution_count": 10,
      "outputs": [
        {
          "output_type": "stream",
          "text": [
            "Mounted at /content/drive\n"
          ],
          "name": "stdout"
        }
      ]
    },
    {
      "cell_type": "code",
      "metadata": {
        "id": "UXQPrObgbFsK",
        "colab": {
          "base_uri": "https://localhost:8080/"
        },
        "outputId": "d265d35c-16d0-4596-b5b0-3481e6954d4e"
      },
      "source": [
        "%cd \"/content/drive/My Drive/Covid19AI\""
      ],
      "execution_count": 11,
      "outputs": [
        {
          "output_type": "stream",
          "text": [
            "/content/drive/My Drive/Covid19AI\n"
          ],
          "name": "stdout"
        }
      ]
    },
    {
      "cell_type": "code",
      "metadata": {
        "id": "b6wWNL7cgGXq"
      },
      "source": [
        "!cp \"/content/drive/My Drive/Covid19AI/Jupyter_notebooks/BEASF.py\" ."
      ],
      "execution_count": 12,
      "outputs": []
    },
    {
      "cell_type": "code",
      "metadata": {
        "id": "hC7bG9cFgzuF"
      },
      "source": [
        "!cp \"/content/drive/My Drive/Covid19AI/Jupyter_notebooks/visualization_tools.py\" ."
      ],
      "execution_count": 13,
      "outputs": []
    },
    {
      "cell_type": "code",
      "metadata": {
        "id": "ugbkn_1Lg-WF",
        "colab": {
          "base_uri": "https://localhost:8080/"
        },
        "outputId": "59c161f3-660f-4a23-99bc-862eaeace5e8"
      },
      "source": [
        "!pip3 install lime"
      ],
      "execution_count": 14,
      "outputs": [
        {
          "output_type": "stream",
          "text": [
            "Requirement already satisfied: lime in /usr/local/lib/python3.6/dist-packages (0.2.0.1)\n",
            "Requirement already satisfied: scikit-learn>=0.18 in /usr/local/lib/python3.6/dist-packages (from lime) (0.22.2.post1)\n",
            "Requirement already satisfied: numpy in /usr/local/lib/python3.6/dist-packages (from lime) (1.16.1)\n",
            "Requirement already satisfied: matplotlib in /usr/local/lib/python3.6/dist-packages (from lime) (3.2.2)\n",
            "Requirement already satisfied: scikit-image>=0.12 in /usr/local/lib/python3.6/dist-packages (from lime) (0.16.2)\n",
            "Requirement already satisfied: tqdm in /usr/local/lib/python3.6/dist-packages (from lime) (4.41.1)\n",
            "Requirement already satisfied: scipy in /usr/local/lib/python3.6/dist-packages (from lime) (1.4.1)\n",
            "Requirement already satisfied: joblib>=0.11 in /usr/local/lib/python3.6/dist-packages (from scikit-learn>=0.18->lime) (1.0.0)\n",
            "Requirement already satisfied: pyparsing!=2.0.4,!=2.1.2,!=2.1.6,>=2.0.1 in /usr/local/lib/python3.6/dist-packages (from matplotlib->lime) (2.4.7)\n",
            "Requirement already satisfied: python-dateutil>=2.1 in /usr/local/lib/python3.6/dist-packages (from matplotlib->lime) (2.8.1)\n",
            "Requirement already satisfied: cycler>=0.10 in /usr/local/lib/python3.6/dist-packages (from matplotlib->lime) (0.10.0)\n",
            "Requirement already satisfied: kiwisolver>=1.0.1 in /usr/local/lib/python3.6/dist-packages (from matplotlib->lime) (1.3.1)\n",
            "Requirement already satisfied: networkx>=2.0 in /usr/local/lib/python3.6/dist-packages (from scikit-image>=0.12->lime) (2.5)\n",
            "Requirement already satisfied: pillow>=4.3.0 in /usr/local/lib/python3.6/dist-packages (from scikit-image>=0.12->lime) (7.0.0)\n",
            "Requirement already satisfied: PyWavelets>=0.4.0 in /usr/local/lib/python3.6/dist-packages (from scikit-image>=0.12->lime) (1.1.1)\n",
            "Requirement already satisfied: imageio>=2.3.0 in /usr/local/lib/python3.6/dist-packages (from scikit-image>=0.12->lime) (2.4.1)\n",
            "Requirement already satisfied: six>=1.5 in /usr/local/lib/python3.6/dist-packages (from python-dateutil>=2.1->matplotlib->lime) (1.15.0)\n",
            "Requirement already satisfied: decorator>=4.3.0 in /usr/local/lib/python3.6/dist-packages (from networkx>=2.0->scikit-image>=0.12->lime) (4.4.2)\n"
          ],
          "name": "stdout"
        }
      ]
    },
    {
      "cell_type": "code",
      "metadata": {
        "id": "Rhcpt823bKu7"
      },
      "source": [
        "import glob, numpy as np, cv2, matplotlib.pyplot as plt, copy, tensorflow as tf\n",
        "from tensorflow.keras.preprocessing.image import load_img, img_to_array, ImageDataGenerator\n",
        "from tensorflow.keras import Model, callbacks as cb, optimizers\n",
        "from tensorflow.keras.models import load_model, model_from_json\n",
        "from tensorflow.keras.layers import Dense, Dropout, Lambda, Input, Conv2D, Conv2DTranspose, concatenate, MaxPooling2D\n",
        "from tensorflow.keras import Model\n",
        "\n",
        "from sklearn.model_selection import train_test_split\n",
        "from sklearn.metrics import confusion_matrix\n",
        "from sklearn.utils import class_weight\n",
        "from sklearn.preprocessing import OneHotEncoder\n",
        "from sklearn.compose import ColumnTransformer\n",
        "\n",
        "from skimage.filters import rank\n",
        "from skimage.morphology import disk\n",
        "\n",
        "from BEASF import BEASF\n",
        "from visualization_tools import GradCAM\n",
        "\n",
        "import matplotlib.pyplot as plt\n"
      ],
      "execution_count": 15,
      "outputs": []
    },
    {
      "cell_type": "markdown",
      "metadata": {
        "id": "0afKCmeyZrvi"
      },
      "source": [
        "# read Data and convert to npy"
      ]
    },
    {
      "cell_type": "code",
      "metadata": {
        "id": "-2zH9UbQbWtu"
      },
      "source": [
        "def get_images(img_path): # FUNCTION FOR 1 FOLDER WITH ALL IMAGES MIXED WITH RESPECTIVE LABEL NAME\n",
        "  normal_images = list()\n",
        "  cap_images = list()\n",
        "  covid_images = list()\n",
        "  for img_name in glob.glob(pathname=img_path + '/*'):\n",
        "    img = load_img(path=img_name, color_mode='grayscale')\n",
        "    img = img_to_array(img=img, data_format='channels_last')\n",
        "    if 'COVID' in img_name:\n",
        "      covid_images.append(img)\n",
        "    elif 'pneumonia' in img_name:\n",
        "      cap_images.append(img)\n",
        "    elif 'normal' in img_name:\n",
        "      normal_images.append(img)\n",
        "  normal_images = np.array(normal_images)\n",
        "  cap_images = np.array(normal_images)\n",
        "  covid_images = np.array(normal_images)\n",
        "\n",
        "  normal_labels = [0 for _ in range(len(normal_images))]\n",
        "  cap_labels = [1 for _ in range(len(cap_images))]\n",
        "  covid_labels = [2 for _ in range(len(covid_images))]\n",
        "\n",
        "  X = np.concatenate((covid_images, cap_images, normal_images))\n",
        "  y = np.array(covid_labels + cap_labels + normal_labels)\n",
        "  return X,y\n",
        "\n",
        "def get_images(img_path): # FUNCTION FOR 1 FOLDER WITH FOLDERS WITH LABEL NAME AND RESPECTIVE IMAGES\n",
        "  normal_images = list()\n",
        "  cap_images = list()\n",
        "  covid_images = list()\n",
        "  print(glob.glob(pathname=img_path + '/*'))\n",
        "  for folder_name in glob.glob(pathname=img_path + '/*'):\n",
        "    print(folder_name)\n",
        "    img_path =folder_name\n",
        "    if 'covid' in folder_name:\n",
        "      for img_name in glob.glob(pathname=img_path + '/*'):\n",
        "        img = load_img(path=img_name, color_mode='grayscale')\n",
        "        img = img_to_array(img=img, data_format='channels_last')\n",
        "        covid_images.append(img)\n",
        "    elif 'PNEUMONIA' in folder_name:\n",
        "       for img_name in glob.glob(pathname=img_path + '/*'):\n",
        "        img = load_img(path=img_name, color_mode='grayscale')\n",
        "        img = img_to_array(img=img, data_format='channels_last')\n",
        "        cap_images.append(img)\n",
        "    elif 'NORMAL' in folder_name:\n",
        "       for img_name in glob.glob(pathname=img_path + '/*'):\n",
        "        img = load_img(path=img_name, color_mode='grayscale')\n",
        "        img = img_to_array(img=img, data_format='channels_last')\n",
        "        normal_images.append(img)\n",
        "  normal_images = np.array(normal_images)\n",
        "  cap_images = np.array(normal_images)\n",
        "  covid_images = np.array(normal_images)\n",
        "\n",
        "  normal_labels = [0 for _ in range(len(normal_images))]\n",
        "  cap_labels = [1 for _ in range(len(cap_images))]\n",
        "  covid_labels = [2 for _ in range(len(covid_images))]\n",
        "\n",
        "  X = np.concatenate((covid_images, cap_images, normal_images))\n",
        "  y = np.array(covid_labels + cap_labels + normal_labels)\n",
        "  return X,y\n"
      ],
      "execution_count": 16,
      "outputs": []
    },
    {
      "cell_type": "code",
      "metadata": {
        "id": "pe8tDmGJeXqz"
      },
      "source": [
        "def resize_images_of(X):\n",
        "    X = np.array([cv2.resize(image, dsize=(320, 320), interpolation=cv2.INTER_CUBIC) for image in X])\n",
        "    X = np.array([np.expand_dims(a=image, axis=-1) for image in X])\n",
        "    X = X.astype(dtype=np.uint8)\n",
        "    return X\n",
        "\n",
        "\n",
        "def show_random_image_from(X):\n",
        "    rnd_idx = np.random.choice(a=len(X), size=None)\n",
        "    plt.imshow(X=X[rnd_idx].squeeze(), cmap='gray')\n",
        "    plt.axis('off')\n",
        "    plt.title(label='a random image from the dataset')\n",
        "    plt.show()\n",
        "\n",
        "\n",
        "def save_dataset(data, labels):\n",
        "    print('number of total dataset images:', len(data))\n",
        "    print('number of total dataset labels:', len(labels))\n",
        "    print('dataset shape:', data.shape)\n",
        "    print(\"export images as npy file? (y/n) : default = n need to remove commented code if needed to export\")\n",
        "    \"\"\"if input() == 'y':\n",
        "        np.save('./covid_cxr_dataset/cxr_samples.npy', arr=data)\n",
        "        np.save('./covid_cxr_dataset/cxr_labels.npy', arr=labels)\n",
        "    else:\n",
        "        print('dataset exportation aborted.')\"\"\"\n",
        "    print('saved as ./covid_cxr_dataset/cxr_samples.npy')\n",
        "    print('saved as ./covid_cxr_dataset/cxr_labels.npy')"
      ],
      "execution_count": 17,
      "outputs": []
    },
    {
      "cell_type": "code",
      "metadata": {
        "id": "npXXkAMUlK7n",
        "colab": {
          "base_uri": "https://localhost:8080/"
        },
        "outputId": "3b541774-5118-4fb7-9921-a2a412a483a6"
      },
      "source": [
        "!ls"
      ],
      "execution_count": 18,
      "outputs": [
        {
          "output_type": "stream",
          "text": [
            " 0.Dataset_prep.ipynb\t      Model_flow.ipynb\n",
            " 1.Image_segmentation.ipynb   Pretrained_Model\n",
            " 2.Training_model.ipynb      'Projects progress.gdoc'\n",
            " Additional\t\t      __pycache__\n",
            " BEASF.py\t\t      References\n",
            " covid_cxr_dataset\t      tmp.h5\n",
            " Documents\t\t     'v1.0_eps=099_valAcc=0.9672.hdf5'\n",
            " Jupyter_notebooks\t      visualization_tools.py\n"
          ],
          "name": "stdout"
        }
      ]
    },
    {
      "cell_type": "code",
      "metadata": {
        "id": "V3XgY4WOhPTG"
      },
      "source": [
        "data_path = '/content/drive/My Drive/Covid19AI/covid_cxr_dataset/Training_data'\n",
        "\n",
        "#X,y = get_images(img_path=data_path)\n"
      ],
      "execution_count": 19,
      "outputs": []
    },
    {
      "cell_type": "code",
      "metadata": {
        "id": "2CKGof2Uvtmg"
      },
      "source": [
        "p2c = '/content/drive/My Drive/Covid19AI/covid_cxr_dataset/Training_data/covid19'\n",
        "p2p = '/content/drive/My Drive/Covid19AI/covid_cxr_dataset/Training_data/PNEUMONIA'\n",
        "p2n = '/content/drive/My Drive/Covid19AI/covid_cxr_dataset/Training_data/NORMAL'"
      ],
      "execution_count": 20,
      "outputs": []
    },
    {
      "cell_type": "code",
      "metadata": {
        "id": "2jP73dcrwK5l",
        "colab": {
          "base_uri": "https://localhost:8080/"
        },
        "outputId": "fec32325-a59c-4f9f-cbff-1ecacccfa3b8"
      },
      "source": [
        "i=0\n",
        "covid_images = list()\n",
        "for img_name in glob.glob(pathname=p2c + '/*'):\n",
        "        print(img_name)\n",
        "        img = load_img(path=img_name, color_mode='grayscale')\n",
        "        img = img_to_array(img=img, data_format='channels_last')\n",
        "        covid_images.append(img)\n",
        "        i = i+1\n",
        "        if i == 100: \n",
        "          break"
      ],
      "execution_count": 21,
      "outputs": [
        {
          "output_type": "stream",
          "text": [
            "/content/drive/My Drive/Covid19AI/covid_cxr_dataset/Training_data/covid19/024.jpg\n",
            "/content/drive/My Drive/Covid19AI/covid_cxr_dataset/Training_data/covid19/030.jpg\n",
            "/content/drive/My Drive/Covid19AI/covid_cxr_dataset/Training_data/covid19/029.jpg\n",
            "/content/drive/My Drive/Covid19AI/covid_cxr_dataset/Training_data/covid19/061.jpeg\n",
            "/content/drive/My Drive/Covid19AI/covid_cxr_dataset/Training_data/covid19/080.jpeg\n",
            "/content/drive/My Drive/Covid19AI/covid_cxr_dataset/Training_data/covid19/033.jpg\n",
            "/content/drive/My Drive/Covid19AI/covid_cxr_dataset/Training_data/covid19/010.jpeg\n",
            "/content/drive/My Drive/Covid19AI/covid_cxr_dataset/Training_data/covid19/014.jpeg\n",
            "/content/drive/My Drive/Covid19AI/covid_cxr_dataset/Training_data/covid19/025.jpg\n",
            "/content/drive/My Drive/Covid19AI/covid_cxr_dataset/Training_data/covid19/006.jpeg\n",
            "/content/drive/My Drive/Covid19AI/covid_cxr_dataset/Training_data/covid19/042.png\n",
            "/content/drive/My Drive/Covid19AI/covid_cxr_dataset/Training_data/covid19/062.jpeg\n",
            "/content/drive/My Drive/Covid19AI/covid_cxr_dataset/Training_data/covid19/060.jpeg\n",
            "/content/drive/My Drive/Covid19AI/covid_cxr_dataset/Training_data/covid19/071.jpeg\n",
            "/content/drive/My Drive/Covid19AI/covid_cxr_dataset/Training_data/covid19/057.jpeg\n",
            "/content/drive/My Drive/Covid19AI/covid_cxr_dataset/Training_data/covid19/015.jpeg\n",
            "/content/drive/My Drive/Covid19AI/covid_cxr_dataset/Training_data/covid19/003.jpeg\n",
            "/content/drive/My Drive/Covid19AI/covid_cxr_dataset/Training_data/covid19/005.jpeg\n",
            "/content/drive/My Drive/Covid19AI/covid_cxr_dataset/Training_data/covid19/045.jpg\n",
            "/content/drive/My Drive/Covid19AI/covid_cxr_dataset/Training_data/covid19/018.jpeg\n",
            "/content/drive/My Drive/Covid19AI/covid_cxr_dataset/Training_data/covid19/001.jpeg\n",
            "/content/drive/My Drive/Covid19AI/covid_cxr_dataset/Training_data/covid19/023.jpeg\n",
            "/content/drive/My Drive/Covid19AI/covid_cxr_dataset/Training_data/covid19/054.jpeg\n",
            "/content/drive/My Drive/Covid19AI/covid_cxr_dataset/Training_data/covid19/008.jpg\n",
            "/content/drive/My Drive/Covid19AI/covid_cxr_dataset/Training_data/covid19/047.png\n",
            "/content/drive/My Drive/Covid19AI/covid_cxr_dataset/Training_data/covid19/073.jpeg\n",
            "/content/drive/My Drive/Covid19AI/covid_cxr_dataset/Training_data/covid19/059.jpeg\n",
            "/content/drive/My Drive/Covid19AI/covid_cxr_dataset/Training_data/covid19/026.jpg\n",
            "/content/drive/My Drive/Covid19AI/covid_cxr_dataset/Training_data/covid19/037.jpg\n",
            "/content/drive/My Drive/Covid19AI/covid_cxr_dataset/Training_data/covid19/039.jpg\n",
            "/content/drive/My Drive/Covid19AI/covid_cxr_dataset/Training_data/covid19/050.jpg\n",
            "/content/drive/My Drive/Covid19AI/covid_cxr_dataset/Training_data/covid19/038.jpg\n",
            "/content/drive/My Drive/Covid19AI/covid_cxr_dataset/Training_data/covid19/043.jpg\n",
            "/content/drive/My Drive/Covid19AI/covid_cxr_dataset/Training_data/covid19/009.jpg\n",
            "/content/drive/My Drive/Covid19AI/covid_cxr_dataset/Training_data/covid19/049.png\n",
            "/content/drive/My Drive/Covid19AI/covid_cxr_dataset/Training_data/covid19/051.jpg\n",
            "/content/drive/My Drive/Covid19AI/covid_cxr_dataset/Training_data/covid19/017.jpeg\n",
            "/content/drive/My Drive/Covid19AI/covid_cxr_dataset/Training_data/covid19/011.jpeg\n",
            "/content/drive/My Drive/Covid19AI/covid_cxr_dataset/Training_data/covid19/031.png\n",
            "/content/drive/My Drive/Covid19AI/covid_cxr_dataset/Training_data/covid19/075.jpeg\n",
            "/content/drive/My Drive/Covid19AI/covid_cxr_dataset/Training_data/covid19/046.png\n",
            "/content/drive/My Drive/Covid19AI/covid_cxr_dataset/Training_data/covid19/012.jpeg\n",
            "/content/drive/My Drive/Covid19AI/covid_cxr_dataset/Training_data/covid19/036.jpg\n",
            "/content/drive/My Drive/Covid19AI/covid_cxr_dataset/Training_data/covid19/076.jpeg\n",
            "/content/drive/My Drive/Covid19AI/covid_cxr_dataset/Training_data/covid19/052.png\n",
            "/content/drive/My Drive/Covid19AI/covid_cxr_dataset/Training_data/covid19/072.jpeg\n",
            "/content/drive/My Drive/Covid19AI/covid_cxr_dataset/Training_data/covid19/041.png\n",
            "/content/drive/My Drive/Covid19AI/covid_cxr_dataset/Training_data/covid19/066.jpeg\n",
            "/content/drive/My Drive/Covid19AI/covid_cxr_dataset/Training_data/covid19/040.png\n",
            "/content/drive/My Drive/Covid19AI/covid_cxr_dataset/Training_data/covid19/067.jpeg\n",
            "/content/drive/My Drive/Covid19AI/covid_cxr_dataset/Training_data/covid19/056.jpg\n",
            "/content/drive/My Drive/Covid19AI/covid_cxr_dataset/Training_data/covid19/048.png\n",
            "/content/drive/My Drive/Covid19AI/covid_cxr_dataset/Training_data/covid19/055.jpg\n",
            "/content/drive/My Drive/Covid19AI/covid_cxr_dataset/Training_data/covid19/016.jpeg\n",
            "/content/drive/My Drive/Covid19AI/covid_cxr_dataset/Training_data/covid19/035.jpg\n",
            "/content/drive/My Drive/Covid19AI/covid_cxr_dataset/Training_data/covid19/013.jpeg\n",
            "/content/drive/My Drive/Covid19AI/covid_cxr_dataset/Training_data/covid19/044.jpg\n",
            "/content/drive/My Drive/Covid19AI/covid_cxr_dataset/Training_data/covid19/027.jpg\n",
            "/content/drive/My Drive/Covid19AI/covid_cxr_dataset/Training_data/covid19/063.jpeg\n",
            "/content/drive/My Drive/Covid19AI/covid_cxr_dataset/Training_data/covid19/032.jpg\n",
            "/content/drive/My Drive/Covid19AI/covid_cxr_dataset/Training_data/covid19/053.png\n",
            "/content/drive/My Drive/Covid19AI/covid_cxr_dataset/Training_data/covid19/069.jpeg\n",
            "/content/drive/My Drive/Covid19AI/covid_cxr_dataset/Training_data/covid19/002.jpeg\n",
            "/content/drive/My Drive/Covid19AI/covid_cxr_dataset/Training_data/covid19/079.jpeg\n",
            "/content/drive/My Drive/Covid19AI/covid_cxr_dataset/Training_data/covid19/078.jpeg\n",
            "/content/drive/My Drive/Covid19AI/covid_cxr_dataset/Training_data/covid19/007.jpg\n",
            "/content/drive/My Drive/Covid19AI/covid_cxr_dataset/Training_data/covid19/077.jpeg\n",
            "/content/drive/My Drive/Covid19AI/covid_cxr_dataset/Training_data/covid19/004.jpeg\n",
            "/content/drive/My Drive/Covid19AI/covid_cxr_dataset/Training_data/covid19/064.jpeg\n",
            "/content/drive/My Drive/Covid19AI/covid_cxr_dataset/Training_data/covid19/020.jpg\n",
            "/content/drive/My Drive/Covid19AI/covid_cxr_dataset/Training_data/covid19/028.jpg\n",
            "/content/drive/My Drive/Covid19AI/covid_cxr_dataset/Training_data/covid19/019.jpeg\n",
            "/content/drive/My Drive/Covid19AI/covid_cxr_dataset/Training_data/covid19/070.png\n",
            "/content/drive/My Drive/Covid19AI/covid_cxr_dataset/Training_data/covid19/074.jpeg\n",
            "/content/drive/My Drive/Covid19AI/covid_cxr_dataset/Training_data/covid19/022.jpg\n",
            "/content/drive/My Drive/Covid19AI/covid_cxr_dataset/Training_data/covid19/058.jpeg\n",
            "/content/drive/My Drive/Covid19AI/covid_cxr_dataset/Training_data/covid19/021.jpg\n",
            "/content/drive/My Drive/Covid19AI/covid_cxr_dataset/Training_data/covid19/065.jpeg\n",
            "/content/drive/My Drive/Covid19AI/covid_cxr_dataset/Training_data/covid19/068.jpeg\n",
            "/content/drive/My Drive/Covid19AI/covid_cxr_dataset/Training_data/covid19/034.jpg\n",
            "/content/drive/My Drive/Covid19AI/covid_cxr_dataset/Training_data/covid19/189.jpg\n",
            "/content/drive/My Drive/Covid19AI/covid_cxr_dataset/Training_data/covid19/092.jpeg\n",
            "/content/drive/My Drive/Covid19AI/covid_cxr_dataset/Training_data/covid19/089.jpeg\n",
            "/content/drive/My Drive/Covid19AI/covid_cxr_dataset/Training_data/covid19/192-.jpeg\n",
            "/content/drive/My Drive/Covid19AI/covid_cxr_dataset/Training_data/covid19/094.jpeg\n",
            "/content/drive/My Drive/Covid19AI/covid_cxr_dataset/Training_data/covid19/202.jpg\n",
            "/content/drive/My Drive/Covid19AI/covid_cxr_dataset/Training_data/covid19/155.jpeg\n",
            "/content/drive/My Drive/Covid19AI/covid_cxr_dataset/Training_data/covid19/140.jpeg\n",
            "/content/drive/My Drive/Covid19AI/covid_cxr_dataset/Training_data/covid19/082.jpeg\n",
            "/content/drive/My Drive/Covid19AI/covid_cxr_dataset/Training_data/covid19/182.jpeg\n",
            "/content/drive/My Drive/Covid19AI/covid_cxr_dataset/Training_data/covid19/122.jpeg\n",
            "/content/drive/My Drive/Covid19AI/covid_cxr_dataset/Training_data/covid19/149.png\n",
            "/content/drive/My Drive/Covid19AI/covid_cxr_dataset/Training_data/covid19/179.jpeg\n",
            "/content/drive/My Drive/Covid19AI/covid_cxr_dataset/Training_data/covid19/097.jpeg\n",
            "/content/drive/My Drive/Covid19AI/covid_cxr_dataset/Training_data/covid19/145.webp\n",
            "/content/drive/My Drive/Covid19AI/covid_cxr_dataset/Training_data/covid19/185.jpg\n",
            "/content/drive/My Drive/Covid19AI/covid_cxr_dataset/Training_data/covid19/154.jpeg\n",
            "/content/drive/My Drive/Covid19AI/covid_cxr_dataset/Training_data/covid19/167.png\n",
            "/content/drive/My Drive/Covid19AI/covid_cxr_dataset/Training_data/covid19/116.jpeg\n",
            "/content/drive/My Drive/Covid19AI/covid_cxr_dataset/Training_data/covid19/101.jpeg\n"
          ],
          "name": "stdout"
        }
      ]
    },
    {
      "cell_type": "code",
      "metadata": {
        "id": "U0njJlGUzmL0",
        "colab": {
          "base_uri": "https://localhost:8080/"
        },
        "outputId": "4302255e-5906-4f88-9a23-415a70378cfd"
      },
      "source": [
        "len(covid_images)"
      ],
      "execution_count": 22,
      "outputs": [
        {
          "output_type": "execute_result",
          "data": {
            "text/plain": [
              "100"
            ]
          },
          "metadata": {
            "tags": []
          },
          "execution_count": 22
        }
      ]
    },
    {
      "cell_type": "code",
      "metadata": {
        "id": "XPf4Pcg-wPsC",
        "colab": {
          "base_uri": "https://localhost:8080/"
        },
        "outputId": "f4dee017-6fbc-425a-caec-60e0736bdd9c"
      },
      "source": [
        "i=0\n",
        "cap_images = list()\n",
        "for img_name in glob.glob(pathname=p2p + '/*'):\n",
        "        print(img_name)\n",
        "        img = load_img(path=img_name, color_mode='grayscale')\n",
        "        img = img_to_array(img=img, data_format='channels_last')\n",
        "        cap_images.append(img)\n",
        "        i = i+1\n",
        "        if i==100:\n",
        "          break"
      ],
      "execution_count": 23,
      "outputs": [
        {
          "output_type": "stream",
          "text": [
            "/content/drive/My Drive/Covid19AI/covid_cxr_dataset/Training_data/PNEUMONIA/person103_bacteria_489.jpeg\n",
            "/content/drive/My Drive/Covid19AI/covid_cxr_dataset/Training_data/PNEUMONIA/person100_bacteria_477.jpeg\n",
            "/content/drive/My Drive/Covid19AI/covid_cxr_dataset/Training_data/PNEUMONIA/person100_bacteria_482.jpeg\n",
            "/content/drive/My Drive/Covid19AI/covid_cxr_dataset/Training_data/PNEUMONIA/person108_bacteria_506.jpeg\n",
            "/content/drive/My Drive/Covid19AI/covid_cxr_dataset/Training_data/PNEUMONIA/person100_bacteria_479.jpeg\n",
            "/content/drive/My Drive/Covid19AI/covid_cxr_dataset/Training_data/PNEUMONIA/person101_bacteria_485.jpeg\n",
            "/content/drive/My Drive/Covid19AI/covid_cxr_dataset/Training_data/PNEUMONIA/person104_bacteria_491.jpeg\n",
            "/content/drive/My Drive/Covid19AI/covid_cxr_dataset/Training_data/PNEUMONIA/person100_bacteria_478.jpeg\n",
            "/content/drive/My Drive/Covid19AI/covid_cxr_dataset/Training_data/PNEUMONIA/person100_bacteria_481.jpeg\n",
            "/content/drive/My Drive/Covid19AI/covid_cxr_dataset/Training_data/PNEUMONIA/person101_bacteria_484.jpeg\n",
            "/content/drive/My Drive/Covid19AI/covid_cxr_dataset/Training_data/PNEUMONIA/person103_bacteria_490.jpeg\n",
            "/content/drive/My Drive/Covid19AI/covid_cxr_dataset/Training_data/PNEUMONIA/person103_bacteria_488.jpeg\n",
            "/content/drive/My Drive/Covid19AI/covid_cxr_dataset/Training_data/PNEUMONIA/person102_bacteria_487.jpeg\n",
            "/content/drive/My Drive/Covid19AI/covid_cxr_dataset/Training_data/PNEUMONIA/person101_bacteria_486.jpeg\n",
            "/content/drive/My Drive/Covid19AI/covid_cxr_dataset/Training_data/PNEUMONIA/person108_bacteria_507.jpeg\n",
            "/content/drive/My Drive/Covid19AI/covid_cxr_dataset/Training_data/PNEUMONIA/person108_bacteria_504.jpeg\n",
            "/content/drive/My Drive/Covid19AI/covid_cxr_dataset/Training_data/PNEUMONIA/person100_bacteria_475.jpeg\n",
            "/content/drive/My Drive/Covid19AI/covid_cxr_dataset/Training_data/PNEUMONIA/person101_bacteria_483.jpeg\n",
            "/content/drive/My Drive/Covid19AI/covid_cxr_dataset/Training_data/PNEUMONIA/person104_bacteria_492.jpeg\n",
            "/content/drive/My Drive/Covid19AI/covid_cxr_dataset/Training_data/PNEUMONIA/person100_bacteria_480.jpeg\n",
            "/content/drive/My Drive/Covid19AI/covid_cxr_dataset/Training_data/PNEUMONIA/person111_bacteria_536.jpeg\n",
            "/content/drive/My Drive/Covid19AI/covid_cxr_dataset/Training_data/PNEUMONIA/person109_bacteria_528.jpeg\n",
            "/content/drive/My Drive/Covid19AI/covid_cxr_dataset/Training_data/PNEUMONIA/person10_virus_35.jpeg\n",
            "/content/drive/My Drive/Covid19AI/covid_cxr_dataset/Training_data/PNEUMONIA/person109_bacteria_526.jpeg\n",
            "/content/drive/My Drive/Covid19AI/covid_cxr_dataset/Training_data/PNEUMONIA/person113_bacteria_541.jpeg\n",
            "/content/drive/My Drive/Covid19AI/covid_cxr_dataset/Training_data/PNEUMONIA/person111_bacteria_535.jpeg\n",
            "/content/drive/My Drive/Covid19AI/covid_cxr_dataset/Training_data/PNEUMONIA/person113_bacteria_542.jpeg\n",
            "/content/drive/My Drive/Covid19AI/covid_cxr_dataset/Training_data/PNEUMONIA/person111_bacteria_533.jpeg\n",
            "/content/drive/My Drive/Covid19AI/covid_cxr_dataset/Training_data/PNEUMONIA/person114_bacteria_546.jpeg\n",
            "/content/drive/My Drive/Covid19AI/covid_cxr_dataset/Training_data/PNEUMONIA/person109_bacteria_523.jpeg\n",
            "/content/drive/My Drive/Covid19AI/covid_cxr_dataset/Training_data/PNEUMONIA/person109_bacteria_517.jpeg\n",
            "/content/drive/My Drive/Covid19AI/covid_cxr_dataset/Training_data/PNEUMONIA/person109_bacteria_519.jpeg\n",
            "/content/drive/My Drive/Covid19AI/covid_cxr_dataset/Training_data/PNEUMONIA/person110_bacteria_531.jpeg\n",
            "/content/drive/My Drive/Covid19AI/covid_cxr_dataset/Training_data/PNEUMONIA/person109_bacteria_512.jpeg\n",
            "/content/drive/My Drive/Covid19AI/covid_cxr_dataset/Training_data/PNEUMONIA/person111_bacteria_534.jpeg\n",
            "/content/drive/My Drive/Covid19AI/covid_cxr_dataset/Training_data/PNEUMONIA/person113_bacteria_540.jpeg\n",
            "/content/drive/My Drive/Covid19AI/covid_cxr_dataset/Training_data/PNEUMONIA/person114_bacteria_545.jpeg\n",
            "/content/drive/My Drive/Covid19AI/covid_cxr_dataset/Training_data/PNEUMONIA/person111_bacteria_537.jpeg\n",
            "/content/drive/My Drive/Covid19AI/covid_cxr_dataset/Training_data/PNEUMONIA/person109_bacteria_513.jpeg\n",
            "/content/drive/My Drive/Covid19AI/covid_cxr_dataset/Training_data/PNEUMONIA/person108_bacteria_511.jpeg\n",
            "/content/drive/My Drive/Covid19AI/covid_cxr_dataset/Training_data/PNEUMONIA/person113_bacteria_543.jpeg\n",
            "/content/drive/My Drive/Covid19AI/covid_cxr_dataset/Training_data/PNEUMONIA/person112_bacteria_538.jpeg\n",
            "/content/drive/My Drive/Covid19AI/covid_cxr_dataset/Training_data/PNEUMONIA/person114_bacteria_544.jpeg\n",
            "/content/drive/My Drive/Covid19AI/covid_cxr_dataset/Training_data/PNEUMONIA/person109_bacteria_522.jpeg\n",
            "/content/drive/My Drive/Covid19AI/covid_cxr_dataset/Training_data/PNEUMONIA/person109_bacteria_527.jpeg\n",
            "/content/drive/My Drive/Covid19AI/covid_cxr_dataset/Training_data/PNEUMONIA/person112_bacteria_539.jpeg\n",
            "/content/drive/My Drive/Covid19AI/covid_cxr_dataset/Training_data/PNEUMONIA/person119_bacteria_568.jpeg\n",
            "/content/drive/My Drive/Covid19AI/covid_cxr_dataset/Training_data/PNEUMONIA/person121_bacteria_575.jpeg\n",
            "/content/drive/My Drive/Covid19AI/covid_cxr_dataset/Training_data/PNEUMONIA/person118_bacteria_559.jpeg\n",
            "/content/drive/My Drive/Covid19AI/covid_cxr_dataset/Training_data/PNEUMONIA/person120_bacteria_572.jpeg\n",
            "/content/drive/My Drive/Covid19AI/covid_cxr_dataset/Training_data/PNEUMONIA/person119_bacteria_565.jpeg\n",
            "/content/drive/My Drive/Covid19AI/covid_cxr_dataset/Training_data/PNEUMONIA/person119_bacteria_566.jpeg\n",
            "/content/drive/My Drive/Covid19AI/covid_cxr_dataset/Training_data/PNEUMONIA/person118_bacteria_560.jpeg\n",
            "/content/drive/My Drive/Covid19AI/covid_cxr_dataset/Training_data/PNEUMONIA/person117_bacteria_556.jpeg\n",
            "/content/drive/My Drive/Covid19AI/covid_cxr_dataset/Training_data/PNEUMONIA/person11_virus_38.jpeg\n",
            "/content/drive/My Drive/Covid19AI/covid_cxr_dataset/Training_data/PNEUMONIA/person119_bacteria_567.jpeg\n",
            "/content/drive/My Drive/Covid19AI/covid_cxr_dataset/Training_data/PNEUMONIA/person117_bacteria_553.jpeg\n",
            "/content/drive/My Drive/Covid19AI/covid_cxr_dataset/Training_data/PNEUMONIA/person120_bacteria_570.jpeg\n",
            "/content/drive/My Drive/Covid19AI/covid_cxr_dataset/Training_data/PNEUMONIA/person120_bacteria_573.jpeg\n",
            "/content/drive/My Drive/Covid19AI/covid_cxr_dataset/Training_data/PNEUMONIA/person117_bacteria_557.jpeg\n",
            "/content/drive/My Drive/Covid19AI/covid_cxr_dataset/Training_data/PNEUMONIA/person120_bacteria_571.jpeg\n",
            "/content/drive/My Drive/Covid19AI/covid_cxr_dataset/Training_data/PNEUMONIA/person125_bacteria_594.jpeg\n",
            "/content/drive/My Drive/Covid19AI/covid_cxr_dataset/Training_data/PNEUMONIA/person124_bacteria_589.jpeg\n",
            "/content/drive/My Drive/Covid19AI/covid_cxr_dataset/Training_data/PNEUMONIA/person124_bacteria_590.jpeg\n",
            "/content/drive/My Drive/Covid19AI/covid_cxr_dataset/Training_data/PNEUMONIA/person121_bacteria_580.jpeg\n",
            "/content/drive/My Drive/Covid19AI/covid_cxr_dataset/Training_data/PNEUMONIA/person122_bacteria_584.jpeg\n",
            "/content/drive/My Drive/Covid19AI/covid_cxr_dataset/Training_data/PNEUMONIA/person122_bacteria_581.jpeg\n",
            "/content/drive/My Drive/Covid19AI/covid_cxr_dataset/Training_data/PNEUMONIA/person122_bacteria_583.jpeg\n",
            "/content/drive/My Drive/Covid19AI/covid_cxr_dataset/Training_data/PNEUMONIA/person122_bacteria_585.jpeg\n",
            "/content/drive/My Drive/Covid19AI/covid_cxr_dataset/Training_data/PNEUMONIA/person122_bacteria_586.jpeg\n",
            "/content/drive/My Drive/Covid19AI/covid_cxr_dataset/Training_data/PNEUMONIA/person121_bacteria_578.jpeg\n",
            "/content/drive/My Drive/Covid19AI/covid_cxr_dataset/Training_data/PNEUMONIA/person121_bacteria_579.jpeg\n",
            "/content/drive/My Drive/Covid19AI/covid_cxr_dataset/Training_data/PNEUMONIA/person125_bacteria_595.jpeg\n",
            "/content/drive/My Drive/Covid19AI/covid_cxr_dataset/Training_data/PNEUMONIA/person122_bacteria_582.jpeg\n",
            "/content/drive/My Drive/Covid19AI/covid_cxr_dataset/Training_data/PNEUMONIA/person121_bacteria_576.jpeg\n",
            "/content/drive/My Drive/Covid19AI/covid_cxr_dataset/Training_data/PNEUMONIA/person124_bacteria_591.jpeg\n",
            "/content/drive/My Drive/Covid19AI/covid_cxr_dataset/Training_data/PNEUMONIA/person124_bacteria_592.jpeg\n",
            "/content/drive/My Drive/Covid19AI/covid_cxr_dataset/Training_data/PNEUMONIA/person123_bacteria_587.jpeg\n",
            "/content/drive/My Drive/Covid19AI/covid_cxr_dataset/Training_data/PNEUMONIA/person130_bacteria_626.jpeg\n",
            "/content/drive/My Drive/Covid19AI/covid_cxr_dataset/Training_data/PNEUMONIA/person131_bacteria_629.jpeg\n",
            "/content/drive/My Drive/Covid19AI/covid_cxr_dataset/Training_data/PNEUMONIA/person126_bacteria_598.jpeg\n",
            "/content/drive/My Drive/Covid19AI/covid_cxr_dataset/Training_data/PNEUMONIA/person130_bacteria_627.jpeg\n",
            "/content/drive/My Drive/Covid19AI/covid_cxr_dataset/Training_data/PNEUMONIA/person126_bacteria_600.jpeg\n",
            "/content/drive/My Drive/Covid19AI/covid_cxr_dataset/Training_data/PNEUMONIA/person126_bacteria_599.jpeg\n",
            "/content/drive/My Drive/Covid19AI/covid_cxr_dataset/Training_data/PNEUMONIA/person128_bacteria_608.jpeg\n",
            "/content/drive/My Drive/Covid19AI/covid_cxr_dataset/Training_data/PNEUMONIA/person130_bacteria_628.jpeg\n",
            "/content/drive/My Drive/Covid19AI/covid_cxr_dataset/Training_data/PNEUMONIA/person130_bacteria_623.jpeg\n",
            "/content/drive/My Drive/Covid19AI/covid_cxr_dataset/Training_data/PNEUMONIA/person128_bacteria_607.jpeg\n",
            "/content/drive/My Drive/Covid19AI/covid_cxr_dataset/Training_data/PNEUMONIA/person130_bacteria_625.jpeg\n",
            "/content/drive/My Drive/Covid19AI/covid_cxr_dataset/Training_data/PNEUMONIA/person132_bacteria_632.jpeg\n",
            "/content/drive/My Drive/Covid19AI/covid_cxr_dataset/Training_data/PNEUMONIA/person127_bacteria_602.jpeg\n",
            "/content/drive/My Drive/Covid19AI/covid_cxr_dataset/Training_data/PNEUMONIA/person128_bacteria_606.jpeg\n",
            "/content/drive/My Drive/Covid19AI/covid_cxr_dataset/Training_data/PNEUMONIA/person127_bacteria_603.jpeg\n",
            "/content/drive/My Drive/Covid19AI/covid_cxr_dataset/Training_data/PNEUMONIA/person128_bacteria_605.jpeg\n",
            "/content/drive/My Drive/Covid19AI/covid_cxr_dataset/Training_data/PNEUMONIA/person127_bacteria_604.jpeg\n",
            "/content/drive/My Drive/Covid19AI/covid_cxr_dataset/Training_data/PNEUMONIA/person136_bacteria_649.jpeg\n",
            "/content/drive/My Drive/Covid19AI/covid_cxr_dataset/Training_data/PNEUMONIA/person133_bacteria_634.jpeg\n",
            "/content/drive/My Drive/Covid19AI/covid_cxr_dataset/Training_data/PNEUMONIA/person134_bacteria_640.jpeg\n",
            "/content/drive/My Drive/Covid19AI/covid_cxr_dataset/Training_data/PNEUMONIA/person135_bacteria_647.jpeg\n",
            "/content/drive/My Drive/Covid19AI/covid_cxr_dataset/Training_data/PNEUMONIA/person133_bacteria_635.jpeg\n"
          ],
          "name": "stdout"
        }
      ]
    },
    {
      "cell_type": "code",
      "metadata": {
        "id": "2-EMM39p0nxn",
        "colab": {
          "base_uri": "https://localhost:8080/"
        },
        "outputId": "af7e3205-d996-4d24-a6cc-b3eee6989f37"
      },
      "source": [
        "len(cap_images)"
      ],
      "execution_count": 24,
      "outputs": [
        {
          "output_type": "execute_result",
          "data": {
            "text/plain": [
              "100"
            ]
          },
          "metadata": {
            "tags": []
          },
          "execution_count": 24
        }
      ]
    },
    {
      "cell_type": "code",
      "metadata": {
        "id": "0N_uMRRWzMnE",
        "colab": {
          "base_uri": "https://localhost:8080/"
        },
        "outputId": "9b430fe5-40c0-427c-a52a-497d2cce99b5"
      },
      "source": [
        "i=0\n",
        "normal_images = list()\n",
        "for img_name in glob.glob(pathname=p2n + '/*'):\n",
        "        print(img_name)\n",
        "        img = load_img(path=img_name, color_mode='grayscale')\n",
        "        img = img_to_array(img=img, data_format='channels_last')\n",
        "        normal_images.append(img)\n",
        "        i = i + 1\n",
        "        if i == 100:\n",
        "          break"
      ],
      "execution_count": 25,
      "outputs": [
        {
          "output_type": "stream",
          "text": [
            "/content/drive/My Drive/Covid19AI/covid_cxr_dataset/Training_data/NORMAL/IM-0519-0001.jpeg\n",
            "/content/drive/My Drive/Covid19AI/covid_cxr_dataset/Training_data/NORMAL/IM-0520-0001.jpeg\n",
            "/content/drive/My Drive/Covid19AI/covid_cxr_dataset/Training_data/NORMAL/IM-0521-0001.jpeg\n",
            "/content/drive/My Drive/Covid19AI/covid_cxr_dataset/Training_data/NORMAL/IM-0531-0001.jpeg\n",
            "/content/drive/My Drive/Covid19AI/covid_cxr_dataset/Training_data/NORMAL/IM-0530-0001.jpeg\n",
            "/content/drive/My Drive/Covid19AI/covid_cxr_dataset/Training_data/NORMAL/IM-0533-0001-0001.jpeg\n",
            "/content/drive/My Drive/Covid19AI/covid_cxr_dataset/Training_data/NORMAL/IM-0532-0001.jpeg\n",
            "/content/drive/My Drive/Covid19AI/covid_cxr_dataset/Training_data/NORMAL/IM-0525-0001.jpeg\n",
            "/content/drive/My Drive/Covid19AI/covid_cxr_dataset/Training_data/NORMAL/IM-0528-0001.jpeg\n",
            "/content/drive/My Drive/Covid19AI/covid_cxr_dataset/Training_data/NORMAL/IM-0534-0001.jpeg\n",
            "/content/drive/My Drive/Covid19AI/covid_cxr_dataset/Training_data/NORMAL/IM-0526-0001.jpeg\n",
            "/content/drive/My Drive/Covid19AI/covid_cxr_dataset/Training_data/NORMAL/IM-0533-0001-0002.jpeg\n",
            "/content/drive/My Drive/Covid19AI/covid_cxr_dataset/Training_data/NORMAL/IM-0536-0001.jpeg\n",
            "/content/drive/My Drive/Covid19AI/covid_cxr_dataset/Training_data/NORMAL/IM-0533-0001.jpeg\n",
            "/content/drive/My Drive/Covid19AI/covid_cxr_dataset/Training_data/NORMAL/IM-0527-0001.jpeg\n",
            "/content/drive/My Drive/Covid19AI/covid_cxr_dataset/Training_data/NORMAL/IM-0535-0001.jpeg\n",
            "/content/drive/My Drive/Covid19AI/covid_cxr_dataset/Training_data/NORMAL/IM-0531-0001-0001.jpeg\n",
            "/content/drive/My Drive/Covid19AI/covid_cxr_dataset/Training_data/NORMAL/IM-0529-0001.jpeg\n",
            "/content/drive/My Drive/Covid19AI/covid_cxr_dataset/Training_data/NORMAL/IM-0541-0001.jpeg\n",
            "/content/drive/My Drive/Covid19AI/covid_cxr_dataset/Training_data/NORMAL/IM-0547-0001.jpeg\n",
            "/content/drive/My Drive/Covid19AI/covid_cxr_dataset/Training_data/NORMAL/IM-0539-0001.jpeg\n",
            "/content/drive/My Drive/Covid19AI/covid_cxr_dataset/Training_data/NORMAL/IM-0538-0001.jpeg\n",
            "/content/drive/My Drive/Covid19AI/covid_cxr_dataset/Training_data/NORMAL/IM-0545-0001-0002.jpeg\n",
            "/content/drive/My Drive/Covid19AI/covid_cxr_dataset/Training_data/NORMAL/IM-0539-0001-0002.jpeg\n",
            "/content/drive/My Drive/Covid19AI/covid_cxr_dataset/Training_data/NORMAL/IM-0543-0001-0002.jpeg\n",
            "/content/drive/My Drive/Covid19AI/covid_cxr_dataset/Training_data/NORMAL/IM-0542-0001.jpeg\n",
            "/content/drive/My Drive/Covid19AI/covid_cxr_dataset/Training_data/NORMAL/IM-0539-0001-0001.jpeg\n",
            "/content/drive/My Drive/Covid19AI/covid_cxr_dataset/Training_data/NORMAL/IM-0537-0001.jpeg\n",
            "/content/drive/My Drive/Covid19AI/covid_cxr_dataset/Training_data/NORMAL/IM-0545-0001.jpeg\n",
            "/content/drive/My Drive/Covid19AI/covid_cxr_dataset/Training_data/NORMAL/IM-0543-0001.jpeg\n",
            "/content/drive/My Drive/Covid19AI/covid_cxr_dataset/Training_data/NORMAL/IM-0548-0001.jpeg\n",
            "/content/drive/My Drive/Covid19AI/covid_cxr_dataset/Training_data/NORMAL/IM-0546-0001.jpeg\n",
            "/content/drive/My Drive/Covid19AI/covid_cxr_dataset/Training_data/NORMAL/IM-0540-0001.jpeg\n",
            "/content/drive/My Drive/Covid19AI/covid_cxr_dataset/Training_data/NORMAL/IM-0545-0001-0001.jpeg\n",
            "/content/drive/My Drive/Covid19AI/covid_cxr_dataset/Training_data/NORMAL/IM-0544-0001.jpeg\n",
            "/content/drive/My Drive/Covid19AI/covid_cxr_dataset/Training_data/NORMAL/IM-0556-0001.jpeg\n",
            "/content/drive/My Drive/Covid19AI/covid_cxr_dataset/Training_data/NORMAL/IM-0555-0001-0001.jpeg\n",
            "/content/drive/My Drive/Covid19AI/covid_cxr_dataset/Training_data/NORMAL/IM-0549-0001-0001.jpeg\n",
            "/content/drive/My Drive/Covid19AI/covid_cxr_dataset/Training_data/NORMAL/IM-0553-0001-0001.jpeg\n",
            "/content/drive/My Drive/Covid19AI/covid_cxr_dataset/Training_data/NORMAL/IM-0551-0001-0001.jpeg\n",
            "/content/drive/My Drive/Covid19AI/covid_cxr_dataset/Training_data/NORMAL/IM-0554-0001.jpeg\n",
            "/content/drive/My Drive/Covid19AI/covid_cxr_dataset/Training_data/NORMAL/IM-0555-0001-0002.jpeg\n",
            "/content/drive/My Drive/Covid19AI/covid_cxr_dataset/Training_data/NORMAL/IM-0555-0001.jpeg\n",
            "/content/drive/My Drive/Covid19AI/covid_cxr_dataset/Training_data/NORMAL/IM-0553-0001-0003.jpeg\n",
            "/content/drive/My Drive/Covid19AI/covid_cxr_dataset/Training_data/NORMAL/IM-0551-0001.jpeg\n",
            "/content/drive/My Drive/Covid19AI/covid_cxr_dataset/Training_data/NORMAL/IM-0557-0001.jpeg\n",
            "/content/drive/My Drive/Covid19AI/covid_cxr_dataset/Training_data/NORMAL/IM-0551-0001-0002.jpeg\n",
            "/content/drive/My Drive/Covid19AI/covid_cxr_dataset/Training_data/NORMAL/IM-0549-0001.jpeg\n",
            "/content/drive/My Drive/Covid19AI/covid_cxr_dataset/Training_data/NORMAL/IM-0549-0001-0002.jpeg\n",
            "/content/drive/My Drive/Covid19AI/covid_cxr_dataset/Training_data/NORMAL/IM-0553-0001.jpeg\n",
            "/content/drive/My Drive/Covid19AI/covid_cxr_dataset/Training_data/NORMAL/IM-0553-0001-0002.jpeg\n",
            "/content/drive/My Drive/Covid19AI/covid_cxr_dataset/Training_data/NORMAL/IM-0559-0001.jpeg\n",
            "/content/drive/My Drive/Covid19AI/covid_cxr_dataset/Training_data/NORMAL/IM-0552-0001.jpeg\n",
            "/content/drive/My Drive/Covid19AI/covid_cxr_dataset/Training_data/NORMAL/IM-0575-0001.jpeg\n",
            "/content/drive/My Drive/Covid19AI/covid_cxr_dataset/Training_data/NORMAL/IM-0577-0001.jpeg\n",
            "/content/drive/My Drive/Covid19AI/covid_cxr_dataset/Training_data/NORMAL/IM-0568-0001.jpeg\n",
            "/content/drive/My Drive/Covid19AI/covid_cxr_dataset/Training_data/NORMAL/IM-0574-0001.jpeg\n",
            "/content/drive/My Drive/Covid19AI/covid_cxr_dataset/Training_data/NORMAL/IM-0571-0001.jpeg\n",
            "/content/drive/My Drive/Covid19AI/covid_cxr_dataset/Training_data/NORMAL/IM-0565-0001.jpeg\n",
            "/content/drive/My Drive/Covid19AI/covid_cxr_dataset/Training_data/NORMAL/IM-0560-0001.jpeg\n",
            "/content/drive/My Drive/Covid19AI/covid_cxr_dataset/Training_data/NORMAL/IM-0566-0001.jpeg\n",
            "/content/drive/My Drive/Covid19AI/covid_cxr_dataset/Training_data/NORMAL/IM-0570-0001.jpeg\n",
            "/content/drive/My Drive/Covid19AI/covid_cxr_dataset/Training_data/NORMAL/IM-0578-0001.jpeg\n",
            "/content/drive/My Drive/Covid19AI/covid_cxr_dataset/Training_data/NORMAL/IM-0579-0001.jpeg\n",
            "/content/drive/My Drive/Covid19AI/covid_cxr_dataset/Training_data/NORMAL/IM-0563-0001.jpeg\n",
            "/content/drive/My Drive/Covid19AI/covid_cxr_dataset/Training_data/NORMAL/IM-0562-0001.jpeg\n",
            "/content/drive/My Drive/Covid19AI/covid_cxr_dataset/Training_data/NORMAL/IM-0569-0001.jpeg\n",
            "/content/drive/My Drive/Covid19AI/covid_cxr_dataset/Training_data/NORMAL/IM-0564-0001.jpeg\n",
            "/content/drive/My Drive/Covid19AI/covid_cxr_dataset/Training_data/NORMAL/IM-0561-0001.jpeg\n",
            "/content/drive/My Drive/Covid19AI/covid_cxr_dataset/Training_data/NORMAL/IM-0595-0001.jpeg\n",
            "/content/drive/My Drive/Covid19AI/covid_cxr_dataset/Training_data/NORMAL/IM-0581-0001.jpeg\n",
            "/content/drive/My Drive/Covid19AI/covid_cxr_dataset/Training_data/NORMAL/IM-0599-0001.jpeg\n",
            "/content/drive/My Drive/Covid19AI/covid_cxr_dataset/Training_data/NORMAL/IM-0598-0001.jpeg\n",
            "/content/drive/My Drive/Covid19AI/covid_cxr_dataset/Training_data/NORMAL/IM-0580-0001.jpeg\n",
            "/content/drive/My Drive/Covid19AI/covid_cxr_dataset/Training_data/NORMAL/IM-0600-0001.jpeg\n",
            "/content/drive/My Drive/Covid19AI/covid_cxr_dataset/Training_data/NORMAL/IM-0584-0001.jpeg\n",
            "/content/drive/My Drive/Covid19AI/covid_cxr_dataset/Training_data/NORMAL/IM-0590-0001.jpeg\n",
            "/content/drive/My Drive/Covid19AI/covid_cxr_dataset/Training_data/NORMAL/IM-0591-0001.jpeg\n",
            "/content/drive/My Drive/Covid19AI/covid_cxr_dataset/Training_data/NORMAL/IM-0586-0001.jpeg\n",
            "/content/drive/My Drive/Covid19AI/covid_cxr_dataset/Training_data/NORMAL/IM-0582-0001.jpeg\n",
            "/content/drive/My Drive/Covid19AI/covid_cxr_dataset/Training_data/NORMAL/IM-0588-0001.jpeg\n",
            "/content/drive/My Drive/Covid19AI/covid_cxr_dataset/Training_data/NORMAL/IM-0593-0001.jpeg\n",
            "/content/drive/My Drive/Covid19AI/covid_cxr_dataset/Training_data/NORMAL/IM-0596-0001.jpeg\n",
            "/content/drive/My Drive/Covid19AI/covid_cxr_dataset/Training_data/NORMAL/IM-0592-0001.jpeg\n",
            "/content/drive/My Drive/Covid19AI/covid_cxr_dataset/Training_data/NORMAL/IM-0583-0001.jpeg\n",
            "/content/drive/My Drive/Covid19AI/covid_cxr_dataset/Training_data/NORMAL/IM-0607-0001.jpeg\n",
            "/content/drive/My Drive/Covid19AI/covid_cxr_dataset/Training_data/NORMAL/IM-0606-0001.jpeg\n",
            "/content/drive/My Drive/Covid19AI/covid_cxr_dataset/Training_data/NORMAL/IM-0601-0001.jpeg\n",
            "/content/drive/My Drive/Covid19AI/covid_cxr_dataset/Training_data/NORMAL/IM-0612-0001-0001.jpeg\n",
            "/content/drive/My Drive/Covid19AI/covid_cxr_dataset/Training_data/NORMAL/IM-0608-0001-0001.jpeg\n",
            "/content/drive/My Drive/Covid19AI/covid_cxr_dataset/Training_data/NORMAL/IM-0602-0001.jpeg\n",
            "/content/drive/My Drive/Covid19AI/covid_cxr_dataset/Training_data/NORMAL/IM-0612-0001-0002.jpeg\n",
            "/content/drive/My Drive/Covid19AI/covid_cxr_dataset/Training_data/NORMAL/IM-0609-0001.jpeg\n",
            "/content/drive/My Drive/Covid19AI/covid_cxr_dataset/Training_data/NORMAL/IM-0608-0001.jpeg\n",
            "/content/drive/My Drive/Covid19AI/covid_cxr_dataset/Training_data/NORMAL/IM-0614-0001.jpeg\n",
            "/content/drive/My Drive/Covid19AI/covid_cxr_dataset/Training_data/NORMAL/IM-0613-0001.jpeg\n",
            "/content/drive/My Drive/Covid19AI/covid_cxr_dataset/Training_data/NORMAL/IM-0608-0001-0002.jpeg\n",
            "/content/drive/My Drive/Covid19AI/covid_cxr_dataset/Training_data/NORMAL/IM-0604-0001.jpeg\n",
            "/content/drive/My Drive/Covid19AI/covid_cxr_dataset/Training_data/NORMAL/IM-0612-0001.jpeg\n",
            "/content/drive/My Drive/Covid19AI/covid_cxr_dataset/Training_data/NORMAL/IM-0615-0001.jpeg\n"
          ],
          "name": "stdout"
        }
      ]
    },
    {
      "cell_type": "code",
      "metadata": {
        "id": "rebiiZ96wkLh",
        "colab": {
          "base_uri": "https://localhost:8080/"
        },
        "outputId": "088de87b-d799-48bd-fed6-b561be7a698f"
      },
      "source": [
        "normal_images = np.array(normal_images)\n",
        "cap_images    = np.array(cap_images)\n",
        "covid_images  = np.array(covid_images)\n",
        "\n",
        "normal_labels = [0 for _ in range(len(normal_images))]\n",
        "cap_labels    = [1 for _ in range(len(cap_images))]\n",
        "covid_labels  = [2 for _ in range(len(covid_images))]\n",
        "\n",
        "X = np.concatenate((covid_images, cap_images, normal_images))\n",
        "y = np.array(covid_labels + cap_labels + normal_labels)\n",
        "\n",
        "print(y)"
      ],
      "execution_count": 31,
      "outputs": [
        {
          "output_type": "stream",
          "text": [
            "[2 2 2 2 2 2 2 2 2 2 2 2 2 2 2 2 2 2 2 2 2 2 2 2 2 2 2 2 2 2 2 2 2 2 2 2 2\n",
            " 2 2 2 2 2 2 2 2 2 2 2 2 2 2 2 2 2 2 2 2 2 2 2 2 2 2 2 2 2 2 2 2 2 2 2 2 2\n",
            " 2 2 2 2 2 2 2 2 2 2 2 2 2 2 2 2 2 2 2 2 2 2 2 2 2 2 1 1 1 1 1 1 1 1 1 1 1\n",
            " 1 1 1 1 1 1 1 1 1 1 1 1 1 1 1 1 1 1 1 1 1 1 1 1 1 1 1 1 1 1 1 1 1 1 1 1 1\n",
            " 1 1 1 1 1 1 1 1 1 1 1 1 1 1 1 1 1 1 1 1 1 1 1 1 1 1 1 1 1 1 1 1 1 1 1 1 1\n",
            " 1 1 1 1 1 1 1 1 1 1 1 1 1 1 1 0 0 0 0 0 0 0 0 0 0 0 0 0 0 0 0 0 0 0 0 0 0\n",
            " 0 0 0 0 0 0 0 0 0 0 0 0 0 0 0 0 0 0 0 0 0 0 0 0 0 0 0 0 0 0 0 0 0 0 0 0 0\n",
            " 0 0 0 0 0 0 0 0 0 0 0 0 0 0 0 0 0 0 0 0 0 0 0 0 0 0 0 0 0 0 0 0 0 0 0 0 0\n",
            " 0 0 0 0]\n"
          ],
          "name": "stdout"
        }
      ]
    },
    {
      "cell_type": "code",
      "metadata": {
        "id": "lJBstj2wxH_m"
      },
      "source": [
        "np.save('/content/drive/My Drive/Covid19AI/covid_cxr_dataset/train_cxr_samples.npy', arr=X)\n",
        "np.save('/content/drive/My Drive/Covid19AI/covid_cxr_dataset/train_cxr_labels.npy', arr=y)"
      ],
      "execution_count": 27,
      "outputs": []
    },
    {
      "cell_type": "code",
      "metadata": {
        "id": "Ibssl6C6tCaP",
        "outputId": "61a663e6-5ffc-488d-836b-bbe17a1905e8",
        "colab": {
          "base_uri": "https://localhost:8080/",
          "height": 368
        }
      },
      "source": [
        "X = resize_images_of(X=X)\n",
        "show_random_image_from(X=X)\n",
        "save_dataset(data=X, labels=y)"
      ],
      "execution_count": 28,
      "outputs": [
        {
          "output_type": "display_data",
          "data": {
            "image/png": "[encoded data removed]",
            "text/plain": [
              "<Figure size 432x288 with 1 Axes>"
            ]
          },
          "metadata": {
            "tags": [],
            "needs_background": "light"
          }
        },
        {
          "output_type": "stream",
          "text": [
            "number of total dataset images: 300\n",
            "number of total dataset labels: 300\n",
            "dataset shape: (300, 320, 320, 1)\n",
            "export images as npy file? (y/n) : default = n need to remove commented code if needed to export\n",
            "saved as ./covid_cxr_dataset/cxr_samples.npy\n",
            "saved as ./covid_cxr_dataset/cxr_labels.npy\n"
          ],
          "name": "stdout"
        }
      ]
    },
    {
      "cell_type": "markdown",
      "metadata": {
        "id": "Qhgsry8IpCan"
      },
      "source": [
        "# Verifying the dataset preperation"
      ]
    },
    {
      "cell_type": "code",
      "metadata": {
        "id": "jbENt9hwi5GO",
        "outputId": "7dd034f2-cc47-4600-cd74-7b4e910f4984",
        "colab": {
          "base_uri": "https://localhost:8080/",
          "height": 316
        }
      },
      "source": [
        "\n",
        "X = np.load('/content/drive/My Drive/Covid19AI/covid_cxr_dataset/train_cxr_samples.npy', allow_pickle=True)\n",
        "y = np.load('/content/drive/My Drive/Covid19AI/covid_cxr_dataset/train_cxr_labels.npy', allow_pickle=True)\n",
        "\n",
        "print('number of total dataset images:', len(X))\n",
        "print('number of total dataset labels:', len(y))\n",
        "print('dataset shape:', X.shape)\n",
        "\n",
        "rnd_idx = np.random.choice(a=len(X), size=None)\n",
        "plt.imshow(X=X[rnd_idx].squeeze(), cmap='gray')\n",
        "plt.axis('off')\n",
        "plt.title(label='a random image from the dataset')\n",
        "plt.show()"
      ],
      "execution_count": 29,
      "outputs": [
        {
          "output_type": "stream",
          "text": [
            "number of total dataset images: 300\n",
            "number of total dataset labels: 300\n",
            "dataset shape: (300,)\n"
          ],
          "name": "stdout"
        },
        {
          "output_type": "display_data",
          "data": {
            "image/png": "[encoded data removed]",
            "text/plain": [
              "<Figure size 432x288 with 1 Axes>"
            ]
          },
          "metadata": {
            "tags": [],
            "needs_background": "light"
          }
        }
      ]
    },
    {
      "cell_type": "code",
      "metadata": {
        "id": "_1dyqSmdpRlO",
        "outputId": "b4dd9e7f-7f84-4338-9436-515a1e771128",
        "colab": {
          "base_uri": "https://localhost:8080/"
        }
      },
      "source": [
        "print(y)"
      ],
      "execution_count": 30,
      "outputs": [
        {
          "output_type": "stream",
          "text": [
            "[2 2 2 2 2 2 2 2 2 2 2 2 2 2 2 2 2 2 2 2 2 2 2 2 2 2 2 2 2 2 2 2 2 2 2 2 2\n",
            " 2 2 2 2 2 2 2 2 2 2 2 2 2 2 2 2 2 2 2 2 2 2 2 2 2 2 2 2 2 2 2 2 2 2 2 2 2\n",
            " 2 2 2 2 2 2 2 2 2 2 2 2 2 2 2 2 2 2 2 2 2 2 2 2 2 2 1 1 1 1 1 1 1 1 1 1 1\n",
            " 1 1 1 1 1 1 1 1 1 1 1 1 1 1 1 1 1 1 1 1 1 1 1 1 1 1 1 1 1 1 1 1 1 1 1 1 1\n",
            " 1 1 1 1 1 1 1 1 1 1 1 1 1 1 1 1 1 1 1 1 1 1 1 1 1 1 1 1 1 1 1 1 1 1 1 1 1\n",
            " 1 1 1 1 1 1 1 1 1 1 1 1 1 1 1 0 0 0 0 0 0 0 0 0 0 0 0 0 0 0 0 0 0 0 0 0 0\n",
            " 0 0 0 0 0 0 0 0 0 0 0 0 0 0 0 0 0 0 0 0 0 0 0 0 0 0 0 0 0 0 0 0 0 0 0 0 0\n",
            " 0 0 0 0 0 0 0 0 0 0 0 0 0 0 0 0 0 0 0 0 0 0 0 0 0 0 0 0 0 0 0 0 0 0 0 0 0\n",
            " 0 0 0 0]\n"
          ],
          "name": "stdout"
        }
      ]
    },
    {
      "cell_type": "code",
      "metadata": {
        "id": "9Fv1jS6_pSsb"
      },
      "source": [
        ""
      ],
      "execution_count": 30,
      "outputs": []
    }
  ]
}